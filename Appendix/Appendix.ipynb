{
 "cells": [
  {
   "cell_type": "code",
   "execution_count": 1,
   "metadata": {},
   "outputs": [],
   "source": [
    "import numpy as np\n",
    "import torch\n",
    "from matplotlib import pyplot as plt"
   ]
  },
  {
   "cell_type": "code",
   "execution_count": 2,
   "metadata": {},
   "outputs": [],
   "source": [
    "x = np.linspace(-10,10,num=100)"
   ]
  },
  {
   "cell_type": "code",
   "execution_count": 3,
   "metadata": {},
   "outputs": [],
   "source": [
    "#x**4 - 3*x**3 + 2\n",
    "y = np.log(np.power(x,4) + np.power(x,3) + 2)"
   ]
  },
  {
   "cell_type": "code",
   "execution_count": 4,
   "metadata": {},
   "outputs": [
    {
     "data": {
      "text/plain": [
       "[<matplotlib.lines.Line2D at 0x7f4aa9ee4730>]"
      ]
     },
     "execution_count": 4,
     "metadata": {},
     "output_type": "execute_result"
    },
    {
     "data": {
      "image/png": "[encoded data removed]",
      "text/plain": [
       "<Figure size 720x504 with 1 Axes>"
      ]
     },
     "metadata": {
      "needs_background": "light"
     },
     "output_type": "display_data"
    }
   ],
   "source": [
    "plt.figure(figsize=(10,7))\n",
    "plt.plot(x,y)\n",
    "#plt.savefig(\"/Users/brandonbrown/Dropbox/DeepReinforcementLearning/media/Appendix/grad_desc1.pdf\")"
   ]
  },
  {
   "cell_type": "code",
   "execution_count": 5,
   "metadata": {},
   "outputs": [],
   "source": [
    "def f(x): #A\n",
    "    return np.log(np.power(x,4) + np.power(x,3) + 2)\n",
    "\n",
    "def dfdx(x): #B\n",
    "    return (4*np.power(x,3) + 3*np.power(x,2)) / f(x)"
   ]
  },
  {
   "cell_type": "code",
   "execution_count": 6,
   "metadata": {},
   "outputs": [],
   "source": [
    "x = -9.41\n",
    "lr = 0.001\n",
    "epochs = 5000\n",
    "for i in range(epochs):\n",
    "    deriv = dfdx(x)\n",
    "    x = x - lr * deriv"
   ]
  },
  {
   "cell_type": "code",
   "execution_count": 7,
   "metadata": {},
   "outputs": [
    {
     "data": {
      "text/plain": [
       "-0.7500000134493898"
      ]
     },
     "execution_count": 7,
     "metadata": {},
     "output_type": "execute_result"
    }
   ],
   "source": [
    "x"
   ]
  },
  {
   "cell_type": "code",
   "execution_count": 9,
   "metadata": {},
   "outputs": [],
   "source": [
    "def nn(x,w1,w2):\n",
    "    l1 = x @ w1 #A\n",
    "    l1 = np.maximum(0,l1) #B\n",
    "    l2 = l1 @ w2\n",
    "    l2 = np.maximum(0,l2)\n",
    "    return l2\n",
    "\n",
    "w1 = np.random.randn(784,200) #C\n",
    "w2 = np.random.randn(200,10)\n",
    "x = np.random.randn(784) #D\n",
    "\n",
    "#A Matrix multiplication\n",
    "#B Non-linear activation function\n",
    "#C Weight (parameter) matrix, initialized randomly\n",
    "#D Random input vector\n"
   ]
  },
  {
   "cell_type": "code",
   "execution_count": 10,
   "metadata": {},
   "outputs": [
    {
     "data": {
      "text/plain": [
       "array([362.9285509 ,   0.        ,   0.        ,   0.        ,\n",
       "        95.68862306,   0.        ,   0.        ,   0.        ,\n",
       "       177.96994799, 230.12157938])"
      ]
     },
     "execution_count": 10,
     "metadata": {},
     "output_type": "execute_result"
    }
   ],
   "source": [
    "nn(x,w1,w2)"
   ]
  },
  {
   "cell_type": "code",
   "execution_count": 11,
   "metadata": {},
   "outputs": [],
   "source": [
    "def nn(x,w1,w2):\n",
    "    l1 = x @ w1 #A\n",
    "    l1 = torch.relu(l1) #B\n",
    "    l2 = l1 @ w2\n",
    "    l2 = torch.relu(l2)\n",
    "    return l2\n",
    "\n",
    "w1 = torch.randn(784,200,requires_grad=True) #C\n",
    "w2 = torch.randn(200,10,requires_grad=True)\n",
    "x = torch.randn(784) #D\n",
    "\n",
    "#A Matrix multiplication\n",
    "#B Non-linear activation function\n",
    "#C Weight (parameter) matrix, initialized randomly\n",
    "#D Random input vector"
   ]
  },
  {
   "cell_type": "code",
   "execution_count": 12,
   "metadata": {},
   "outputs": [
    {
     "data": {
      "text/plain": [
       "tensor([426.5498, 530.5362, 517.8940,  47.1936,  48.0776,  26.8019, 482.6143,\n",
       "         75.2514,   0.0000,   1.8935], grad_fn=<ReluBackward0>)"
      ]
     },
     "execution_count": 12,
     "metadata": {},
     "output_type": "execute_result"
    }
   ],
   "source": [
    "nn(x,w1,w2)"
   ]
  },
  {
   "cell_type": "code",
   "execution_count": 13,
   "metadata": {},
   "outputs": [],
   "source": [
    "import torchvision as TV\n",
    "\n",
    "def nn(x,w1,w2):\n",
    "    l1 = x @ w1 #A\n",
    "    l1 = torch.relu(l1) #B\n",
    "    l2 = l1 @ w2\n",
    "    return l2\n",
    "\n",
    "w1 = torch.randn(784,200,requires_grad=True) #C\n",
    "w2 = torch.randn(200,10,requires_grad=True)\n",
    "\n",
    "#A Matrix multiplication\n",
    "#B Non-linear activation function\n",
    "#C Weight (parameter) matrix, initialized randomly\n",
    "#D Random input vector"
   ]
  },
  {
   "cell_type": "code",
   "execution_count": 16,
   "metadata": {},
   "outputs": [
    {
     "name": "stdout",
     "output_type": "stream",
     "text": [
      "Downloading http://yann.lecun.com/exdb/mnist/train-images-idx3-ubyte.gz to MNIST/MNIST/raw/train-images-idx3-ubyte.gz\n"
     ]
    },
    {
     "data": {
      "application/vnd.jupyter.widget-view+json": {
       "model_id": "14c748cab58c46f98940c54d4d509c48",
       "version_major": 2,
       "version_minor": 0
      },
      "text/plain": [
       "0it [00:00, ?it/s]"
      ]
     },
     "metadata": {},
     "output_type": "display_data"
    },
    {
     "name": "stdout",
     "output_type": "stream",
     "text": [
      "Extracting MNIST/MNIST/raw/train-images-idx3-ubyte.gz to MNIST/MNIST/raw\n",
      "Downloading http://yann.lecun.com/exdb/mnist/train-labels-idx1-ubyte.gz to MNIST/MNIST/raw/train-labels-idx1-ubyte.gz\n"
     ]
    },
    {
     "data": {
      "application/vnd.jupyter.widget-view+json": {
       "model_id": "146bbc71fc634d42bf1053bce08bdfef",
       "version_major": 2,
       "version_minor": 0
      },
      "text/plain": [
       "0it [00:00, ?it/s]"
      ]
     },
     "metadata": {},
     "output_type": "display_data"
    },
    {
     "name": "stdout",
     "output_type": "stream",
     "text": [
      "Extracting MNIST/MNIST/raw/train-labels-idx1-ubyte.gz to MNIST/MNIST/raw\n",
      "Downloading http://yann.lecun.com/exdb/mnist/t10k-images-idx3-ubyte.gz to MNIST/MNIST/raw/t10k-images-idx3-ubyte.gz\n"
     ]
    },
    {
     "data": {
      "application/vnd.jupyter.widget-view+json": {
       "model_id": "c1d6fe351a13440b959175fda282bf25",
       "version_major": 2,
       "version_minor": 0
      },
      "text/plain": [
       "0it [00:00, ?it/s]"
      ]
     },
     "metadata": {},
     "output_type": "display_data"
    },
    {
     "name": "stdout",
     "output_type": "stream",
     "text": [
      "Extracting MNIST/MNIST/raw/t10k-images-idx3-ubyte.gz to MNIST/MNIST/raw\n",
      "Downloading http://yann.lecun.com/exdb/mnist/t10k-labels-idx1-ubyte.gz to MNIST/MNIST/raw/t10k-labels-idx1-ubyte.gz\n"
     ]
    },
    {
     "data": {
      "application/vnd.jupyter.widget-view+json": {
       "model_id": "2d770bd483c44ef3afdb14bb6b345be3",
       "version_major": 2,
       "version_minor": 0
      },
      "text/plain": [
       "0it [00:00, ?it/s]"
      ]
     },
     "metadata": {},
     "output_type": "display_data"
    },
    {
     "name": "stdout",
     "output_type": "stream",
     "text": [
      "Extracting MNIST/MNIST/raw/t10k-labels-idx1-ubyte.gz to MNIST/MNIST/raw\n",
      "Processing...\n",
      "Done!\n"
     ]
    },
    {
     "name": "stderr",
     "output_type": "stream",
     "text": [
      "/home/jack/anaconda3/lib/python3.8/site-packages/torchvision/datasets/mnist.py:480: UserWarning: The given NumPy array is not writeable, and PyTorch does not support non-writeable tensors. This means you can write to the underlying (supposedly non-writeable) NumPy array using the tensor. You may want to copy the array to protect its data or make it writeable before converting it to a tensor. This type of warning will be suppressed for the rest of this program. (Triggered internally at  /pytorch/torch/csrc/utils/tensor_numpy.cpp:141.)\n",
      "  return torch.from_numpy(parsed.astype(m[2], copy=False)).view(*s)\n"
     ]
    }
   ],
   "source": [
    "try:\n",
    "    mnist_data = TV.datasets.MNIST(\"MNIST\", train=True, download=False) #A\n",
    "except:\n",
    "    mnist_data = TV.datasets.MNIST(\"MNIST\", train=True, download=True) #A"
   ]
  },
  {
   "cell_type": "code",
   "execution_count": 17,
   "metadata": {},
   "outputs": [
    {
     "name": "stderr",
     "output_type": "stream",
     "text": [
      "/home/jack/anaconda3/lib/python3.8/site-packages/torchvision/datasets/mnist.py:58: UserWarning: train_data has been renamed data\n",
      "  warnings.warn(\"train_data has been renamed data\")\n"
     ]
    },
    {
     "data": {
      "text/plain": [
       "(-0.5, 27.5, 27.5, -0.5)"
      ]
     },
     "execution_count": 17,
     "metadata": {},
     "output_type": "execute_result"
    },
    {
     "data": {
      "image/png": "[encoded data removed]",
      "text/plain": [
       "<Figure size 720x504 with 1 Axes>"
      ]
     },
     "metadata": {
      "needs_background": "light"
     },
     "output_type": "display_data"
    }
   ],
   "source": [
    "plt.figure(figsize=(10,7))\n",
    "plt.imshow(mnist_data.train_data[0])\n",
    "plt.axis('off')"
   ]
  },
  {
   "cell_type": "code",
   "execution_count": 18,
   "metadata": {},
   "outputs": [
    {
     "name": "stderr",
     "output_type": "stream",
     "text": [
      "/home/jack/anaconda3/lib/python3.8/site-packages/torchvision/datasets/mnist.py:48: UserWarning: train_labels has been renamed targets\n",
      "  warnings.warn(\"train_labels has been renamed targets\")\n"
     ]
    }
   ],
   "source": [
    "lr = 0.0001\n",
    "epochs = 2500\n",
    "batch_size = 1000\n",
    "losses = []\n",
    "lossfn = torch.nn.CrossEntropyLoss() #B\n",
    "for i in range(epochs):\n",
    "    rid = np.random.randint(0,mnist_data.train_data.shape[0],size=batch_size) #C\n",
    "    x = mnist_data.train_data[rid].float().flatten(start_dim=1) #D\n",
    "    x /= x.max() #E\n",
    "    pred = nn(x,w1,w2) #F\n",
    "    target = mnist_data.train_labels[rid] #G\n",
    "    loss = lossfn(pred,target) #H\n",
    "    losses.append(loss)\n",
    "    loss.backward() #I\n",
    "    with torch.no_grad(): #J\n",
    "        w1 -= lr * w1.grad #K\n",
    "        w2 -= lr * w2.grad\n",
    "        \n",
    "#A Download and load the MNIST dataset\n",
    "#B Setup a loss function\n",
    "#C Get a set of random index values\n",
    "#D Subset the data and flatten the 28x28 images into 784 vectors\n",
    "#E Normalize the vector to be between 0 and 1\n",
    "#F Make a prediction using the neural network\n",
    "#G Get the ground-truth image labels\n",
    "#H Compute the loss\n",
    "#I Backpropagate\n",
    "#J Do not compute gradients in this block\n",
    "#K Gradient descent over the parameter matrices"
   ]
  },
  {
   "cell_type": "code",
   "execution_count": 19,
   "metadata": {},
   "outputs": [
    {
     "data": {
      "text/plain": [
       "[<matplotlib.lines.Line2D at 0x7f4aa9cd2850>]"
      ]
     },
     "execution_count": 19,
     "metadata": {},
     "output_type": "execute_result"
    },
    {
     "data": {
      "image/png": "[encoded data removed]",
      "text/plain": [
       "<Figure size 720x504 with 1 Axes>"
      ]
     },
     "metadata": {
      "needs_background": "light"
     },
     "output_type": "display_data"
    }
   ],
   "source": [
    "plt.figure(figsize=(10,7))\n",
    "plt.xlabel(\"Training Time\", fontsize=22)\n",
    "plt.ylabel(\"Loss\", fontsize=22)\n",
    "plt.plot(losses)\n",
    "#plt.savefig(\"/Users/brandonbrown/Dropbox/DeepReinforcementLearning/media/Appendix/loss1.png\")"
   ]
  },
  {
   "cell_type": "code",
   "execution_count": 25,
   "metadata": {},
   "outputs": [
    {
     "name": "stderr",
     "output_type": "stream",
     "text": [
      "/home/jack/anaconda3/lib/python3.8/site-packages/torchvision/datasets/mnist.py:53: UserWarning: test_labels has been renamed targets\n",
      "  warnings.warn(\"test_labels has been renamed targets\")\n"
     ]
    }
   ],
   "source": [
    "batch_size = 100\n",
    "rid = np.random.randint(0,mnist_data.test_data.shape[0],size=batch_size) #C\n",
    "x = mnist_data.test_data[rid].float().flatten(start_dim=1) #D\n",
    "x /= x.max() #E\n",
    "pred = nn(x,w1,w2) #F\n",
    "pred_label = torch.log_softmax(pred, dim=1).argmax(dim=1)\n",
    "target = mnist_data.test_labels[rid] #G\n",
    "num_cor = (pred_label == target).sum()"
   ]
  },
  {
   "cell_type": "code",
   "execution_count": 26,
   "metadata": {},
   "outputs": [
    {
     "data": {
      "text/plain": [
       "tensor(0.8000)"
      ]
     },
     "execution_count": 26,
     "metadata": {},
     "output_type": "execute_result"
    }
   ],
   "source": [
    "num_cor.float() / 100.0"
   ]
  },
  {
   "cell_type": "code",
   "execution_count": 27,
   "metadata": {},
   "outputs": [],
   "source": [
    "lr = 0.001\n",
    "epochs = 5000\n",
    "batch_size = 500\n",
    "losses = []\n",
    "lossfn = torch.nn.CrossEntropyLoss() #B\n",
    "optim = torch.optim.Adam(params=[w1,w2],lr=lr)\n",
    "for i in range(epochs):\n",
    "    rid = np.random.randint(0,mnist_data.train_data.shape[0],size=batch_size) #C\n",
    "    x = mnist_data.train_data[rid].float().flatten(start_dim=1) #D\n",
    "    x /= x.max() #E\n",
    "    pred = nn(x,w1,w2) #F\n",
    "    target = mnist_data.train_labels[rid] #G\n",
    "    loss = lossfn(pred,target) #H\n",
    "    losses.append(loss)\n",
    "    loss.backward() #I\n",
    "    optim.step()\n",
    "    optim.zero_grad()\n",
    "        \n",
    "#A Download and load the MNIST dataset\n",
    "#B Setup a loss function\n",
    "#C Get a set of random index values\n",
    "#D Subset the data and flatten the 28x28 images into 784 vectors\n",
    "#E Normalize the vector to be between 0 and 1\n",
    "#F Make a prediction using the neural network\n",
    "#G Get the ground-truth image labels\n",
    "#H Compute the loss\n",
    "#I Backpropagate\n",
    "#J Do not compute gradients in this block\n",
    "#K Gradient descent over the parameter matrices"
   ]
  },
  {
   "cell_type": "code",
   "execution_count": 28,
   "metadata": {},
   "outputs": [
    {
     "data": {
      "text/plain": [
       "[<matplotlib.lines.Line2D at 0x7f4aa8151b20>]"
      ]
     },
     "execution_count": 28,
     "metadata": {},
     "output_type": "execute_result"
    },
    {
     "data": {
      "image/png": "[encoded data removed]",
      "text/plain": [
       "<Figure size 720x504 with 1 Axes>"
      ]
     },
     "metadata": {
      "needs_background": "light"
     },
     "output_type": "display_data"
    }
   ],
   "source": [
    "plt.figure(figsize=(10,7))\n",
    "plt.xlabel(\"Training Time\", fontsize=22)\n",
    "plt.ylabel(\"Loss\", fontsize=22)\n",
    "plt.plot(losses)\n",
    "#plt.savefig(\"/Users/brandonbrown/Dropbox/DeepReinforcementLearning/media/Appendix/loss1.png\")"
   ]
  },
  {
   "cell_type": "code",
   "execution_count": 29,
   "metadata": {},
   "outputs": [],
   "source": [
    "batch_size = 100\n",
    "rid = np.random.randint(0,mnist_data.test_data.shape[0],size=batch_size) #C\n",
    "x = mnist_data.test_data[rid].float().flatten(start_dim=1) #D\n",
    "x /= x.max() #E\n",
    "pred = nn(x,w1,w2) #F\n",
    "pred_label = torch.log_softmax(pred, dim=1).argmax(dim=1)\n",
    "target = mnist_data.test_labels[rid] #G\n",
    "num_cor = (pred_label == target).sum()"
   ]
  },
  {
   "cell_type": "code",
   "execution_count": 30,
   "metadata": {},
   "outputs": [
    {
     "data": {
      "text/plain": [
       "tensor(0.8500)"
      ]
     },
     "execution_count": 30,
     "metadata": {},
     "output_type": "execute_result"
    }
   ],
   "source": [
    "num_cor.float() / 100.0"
   ]
  },
  {
   "cell_type": "code",
   "execution_count": null,
   "metadata": {},
   "outputs": [],
   "source": []
  }
 ],
 "metadata": {
  "kernelspec": {
   "display_name": "deep-rl-notebooks-poetry",
   "language": "python",
   "name": "deep-rl-notebooks-poetry"
  },
  "language_info": {
   "codemirror_mode": {
    "name": "ipython",
    "version": 3
   },
   "file_extension": ".py",
   "mimetype": "text/x-python",
   "name": "python",
   "nbconvert_exporter": "python",
   "pygments_lexer": "ipython3",
   "version": "3.8.5"
  }
 },
 "nbformat": 4,
 "nbformat_minor": 2
}
