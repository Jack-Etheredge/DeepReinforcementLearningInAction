{
 "cells": [
  {
   "cell_type": "markdown",
   "metadata": {},
   "source": [
    "# Ch 9 Multi-Agent Reinforcement Learning"
   ]
  },
  {
   "cell_type": "markdown",
   "metadata": {},
   "source": [
    "##### Listing 9.3"
   ]
  },
  {
   "cell_type": "code",
   "execution_count": 1,
   "metadata": {},
   "outputs": [],
   "source": [
    "import numpy as np\n",
    "import torch\n",
    "from matplotlib import pyplot as plt\n",
    "\n",
    "def init_grid(size=(10,)):\n",
    "    grid = torch.randn(*size)\n",
    "    grid[grid > 0] = 1\n",
    "    grid[grid <= 0] = 0\n",
    "    grid = grid.byte() #A\n",
    "    return grid\n",
    "\n",
    "def get_reward(s,a): #B\n",
    "    r = -1\n",
    "    for i in s:\n",
    "        if i == a:\n",
    "            r += 0.9\n",
    "    r *= 2.\n",
    "    return r"
   ]
  },
  {
   "cell_type": "markdown",
   "metadata": {},
   "source": [
    "##### Listing 9.4"
   ]
  },
  {
   "cell_type": "code",
   "execution_count": 2,
   "metadata": {},
   "outputs": [],
   "source": [
    "def gen_params(N,size): #A\n",
    "    ret = []\n",
    "    for i in range(N):\n",
    "        vec = torch.randn(size) / 10.\n",
    "        vec.requires_grad = True\n",
    "        ret.append(vec)\n",
    "    return ret\n"
   ]
  },
  {
   "cell_type": "markdown",
   "metadata": {},
   "source": [
    "##### Listing 9.5"
   ]
  },
  {
   "cell_type": "code",
   "execution_count": 3,
   "metadata": {},
   "outputs": [],
   "source": [
    "def qfunc(s,theta,layers=[(4,20),(20,2)],afn=torch.tanh):\n",
    "    l1n = layers[0] \n",
    "    l1s = np.prod(l1n) #A\n",
    "    theta_1 = theta[0:l1s].reshape(l1n) #B\n",
    "    l2n = layers[1]\n",
    "    l2s = np.prod(l2n)\n",
    "    theta_2 = theta[l1s:l2s+l1s].reshape(l2n)\n",
    "    bias = torch.ones((1,theta_1.shape[1]))\n",
    "    l1 = s @ theta_1 + bias #C\n",
    "    l1 = torch.nn.functional.elu(l1)\n",
    "    l2 = afn(l1 @ theta_2) #D\n",
    "    return l2.flatten()"
   ]
  },
  {
   "cell_type": "markdown",
   "metadata": {},
   "source": [
    "##### Listing 9.6"
   ]
  },
  {
   "cell_type": "code",
   "execution_count": 4,
   "metadata": {},
   "outputs": [],
   "source": [
    "def get_substate(b): #A\n",
    "    s = torch.zeros(2) \n",
    "    if b > 0: #B\n",
    "        s[1] = 1\n",
    "    else:\n",
    "        s[0] = 1\n",
    "    return s\n",
    "\n",
    "def joint_state(s): #C\n",
    "    s1_ = get_substate(s[0]) #D\n",
    "    s2_ = get_substate(s[1])\n",
    "    ret = (s1_.reshape(2,1) @ s2_.reshape(1,2)).flatten() #E\n",
    "    return ret"
   ]
  },
  {
   "cell_type": "markdown",
   "metadata": {},
   "source": [
    "##### Listing 9.7"
   ]
  },
  {
   "cell_type": "code",
   "execution_count": 5,
   "metadata": {},
   "outputs": [
    {
     "name": "stdout",
     "output_type": "stream",
     "text": [
      "tensor([0, 0, 1, 0, 1, 1, 1, 0, 1, 0, 1, 0, 0, 1, 0, 0, 0, 0, 1, 1],\n",
      "       dtype=torch.uint8)\n"
     ]
    },
    {
     "data": {
      "text/plain": [
       "<matplotlib.image.AxesImage at 0x7f3cd71ca280>"
      ]
     },
     "execution_count": 5,
     "metadata": {},
     "output_type": "execute_result"
    },
    {
     "data": {
      "image/png": "[encoded data removed]",
      "text/plain": [
       "<Figure size 576x360 with 1 Axes>"
      ]
     },
     "metadata": {
      "needs_background": "light"
     },
     "output_type": "display_data"
    }
   ],
   "source": [
    "plt.figure(figsize=(8,5))\n",
    "size = (20,) #A\n",
    "hid_layer = 20 #B\n",
    "params = gen_params(size[0],4*hid_layer+hid_layer*2) #C\n",
    "grid = init_grid(size=size)\n",
    "grid_ = grid.clone() #D\n",
    "print(grid)\n",
    "plt.imshow(np.expand_dims(grid,0))"
   ]
  },
  {
   "cell_type": "markdown",
   "metadata": {},
   "source": [
    "##### Listing 9.8"
   ]
  },
  {
   "cell_type": "code",
   "execution_count": 6,
   "metadata": {},
   "outputs": [],
   "source": [
    "epochs = 200\n",
    "lr = 0.001 #A\n",
    "losses = [[] for i in range(size[0])] #B\n",
    "for i in range(epochs):\n",
    "    for j in range(size[0]): #C\n",
    "        l = j - 1 if j - 1 >= 0 else size[0]-1 #D\n",
    "        r = j + 1 if j + 1 < size[0] else 0 #E\n",
    "        state_ = grid[[l,r]] #F\n",
    "        state = joint_state(state_) #G\n",
    "        qvals = qfunc(state.float().detach(),params[j],layers=[(4,hid_layer),(hid_layer,2)])\n",
    "        qmax = torch.argmax(qvals,dim=0).detach().item() #H\n",
    "        action = int(qmax)\n",
    "        grid_[j] = action #I\n",
    "        reward = get_reward(state_.detach(),action)\n",
    "        with torch.no_grad(): #J\n",
    "            target = qvals.clone()\n",
    "            target[action] = reward\n",
    "        loss = torch.sum(torch.pow(qvals - target,2))\n",
    "        losses[j].append(loss.detach().numpy())\n",
    "        loss.backward()\n",
    "        with torch.no_grad(): #K\n",
    "            params[j] = params[j] - lr * params[j].grad\n",
    "        params[j].requires_grad = True\n",
    "    with torch.no_grad(): #L\n",
    "        grid.data = grid_.data"
   ]
  },
  {
   "cell_type": "markdown",
   "metadata": {},
   "source": [
    "##### Visualization of 1D Ising Model"
   ]
  },
  {
   "cell_type": "code",
   "execution_count": 7,
   "metadata": {},
   "outputs": [
    {
     "name": "stdout",
     "output_type": "stream",
     "text": [
      "tensor([1, 1, 1, 1, 1, 1, 1, 0, 0, 0, 0, 0, 0, 0, 0, 0, 0, 0, 0, 0],\n",
      "       dtype=torch.uint8) tensor(7)\n"
     ]
    },
    {
     "data": {
      "text/plain": [
       "<matplotlib.image.AxesImage at 0x7f3cce952c10>"
      ]
     },
     "execution_count": 7,
     "metadata": {},
     "output_type": "execute_result"
    },
    {
     "data": {
      "image/png": "[encoded data removed]",
      "text/plain": [
       "<Figure size 432x288 with 2 Axes>"
      ]
     },
     "metadata": {
      "needs_background": "light"
     },
     "output_type": "display_data"
    }
   ],
   "source": [
    "fig,ax = plt.subplots(2,1)\n",
    "for i in range(size[0]):\n",
    "    ax[0].scatter(np.arange(len(losses[i])),losses[i])\n",
    "print(grid,grid.sum())\n",
    "ax[1].imshow(np.expand_dims(grid,0))"
   ]
  },
  {
   "cell_type": "markdown",
   "metadata": {},
   "source": [
    "##### Listing 9.9"
   ]
  },
  {
   "cell_type": "code",
   "execution_count": 8,
   "metadata": {},
   "outputs": [],
   "source": [
    "from collections import deque #A\n",
    "from random import shuffle #B\n",
    "\n",
    "def softmax_policy(qvals,temp=0.9): #C\n",
    "    soft = torch.exp(qvals/temp) / torch.sum(torch.exp(qvals/temp)) #D\n",
    "    action = torch.multinomial(soft,1) #E\n",
    "    return action"
   ]
  },
  {
   "cell_type": "markdown",
   "metadata": {},
   "source": [
    "##### Listing 9.10"
   ]
  },
  {
   "cell_type": "code",
   "execution_count": 9,
   "metadata": {},
   "outputs": [],
   "source": [
    "def get_coords(grid,j): #A\n",
    "    x = int(np.floor(j / grid.shape[0])) #B\n",
    "    y = int(j - x * grid.shape[0]) #C\n",
    "    return x,y\n",
    "\n",
    "def get_reward_2d(action,action_mean): #D\n",
    "    r = (action*(action_mean-action/2)).sum()/action.sum() #E\n",
    "    return torch.tanh(5 * r) #F"
   ]
  },
  {
   "cell_type": "code",
   "execution_count": 10,
   "metadata": {},
   "outputs": [
    {
     "name": "stdout",
     "output_type": "stream",
     "text": [
      "tensor(-0.8483) tensor(0.8483)\n"
     ]
    }
   ],
   "source": [
    "x1 = get_reward_2d(torch.Tensor([1,0]),torch.Tensor([0.25, 0.75]))\n",
    "x2 = get_reward_2d(torch.Tensor([0,1]),torch.Tensor([0.25, 0.75]))\n",
    "print(x1,x2)"
   ]
  },
  {
   "cell_type": "markdown",
   "metadata": {},
   "source": [
    "##### Listing 9.11"
   ]
  },
  {
   "cell_type": "code",
   "execution_count": 11,
   "metadata": {},
   "outputs": [],
   "source": [
    "def mean_action(grid,j):\n",
    "    x,y = get_coords(grid,j) #A\n",
    "    action_mean = torch.zeros(2) #B\n",
    "    for i in [-1,0,1]: #C\n",
    "        for k in [-1,0,1]:\n",
    "            if i == k == 0:\n",
    "                continue\n",
    "            x_,y_ = x + i, y + k\n",
    "            x_ = x_ if x_ >= 0 else grid.shape[0] - 1\n",
    "            y_ = y_ if y_ >= 0 else grid.shape[1] - 1\n",
    "            x_ = x_ if x_ <  grid.shape[0] else 0\n",
    "            y_ = y_ if y_ < grid.shape[1] else 0\n",
    "            cur_n = grid[x_,y_]\n",
    "            s = get_substate(cur_n) #D\n",
    "            action_mean += s\n",
    "    action_mean /= action_mean.sum() #E\n",
    "    return action_mean"
   ]
  },
  {
   "cell_type": "code",
   "execution_count": 12,
   "metadata": {},
   "outputs": [
    {
     "name": "stdout",
     "output_type": "stream",
     "text": [
      "tensor(43)\n"
     ]
    },
    {
     "data": {
      "image/png": "[encoded data removed]",
      "text/plain": [
       "<Figure size 432x288 with 1 Axes>"
      ]
     },
     "metadata": {
      "needs_background": "light"
     },
     "output_type": "display_data"
    }
   ],
   "source": [
    "size = (10,10)\n",
    "J = np.prod(size) \n",
    "hid_layer = 10\n",
    "layers = [(2,hid_layer),(hid_layer,2)]\n",
    "params = gen_params(1,2*hid_layer+hid_layer*2)\n",
    "grid = init_grid(size=size)\n",
    "grid_ = grid.clone()\n",
    "grid__ = grid.clone()\n",
    "plt.imshow(grid)\n",
    "print(grid.sum())"
   ]
  },
  {
   "cell_type": "markdown",
   "metadata": {},
   "source": [
    "##### Listing 9.12"
   ]
  },
  {
   "cell_type": "code",
   "execution_count": 13,
   "metadata": {},
   "outputs": [],
   "source": [
    "epochs = 75\n",
    "lr = 0.0001\n",
    "num_iter = 3 #A \n",
    "losses = [ [] for i in range(size[0])] #B\n",
    "replay_size = 50 #C\n",
    "replay = deque(maxlen=replay_size) #D\n",
    "batch_size = 10 #E\n",
    "gamma = 0.9 #F\n",
    "losses = [[] for i in range(J)]\n",
    "\n",
    "for i in range(epochs): \n",
    "    act_means = torch.zeros((J,2)) #G\n",
    "    q_next = torch.zeros(J) #H\n",
    "    for m in range(num_iter): #I\n",
    "        for j in range(J): #J\n",
    "            action_mean = mean_action(grid_,j).detach()\n",
    "            act_means[j] = action_mean.clone()\n",
    "            qvals = qfunc(action_mean.detach(),params[0],layers=layers)\n",
    "            action = softmax_policy(qvals.detach(),temp=0.5)\n",
    "            grid__[get_coords(grid_,j)] = action\n",
    "            q_next[j] = torch.max(qvals).detach()\n",
    "        grid_.data = grid__.data\n",
    "    grid.data = grid_.data\n",
    "    actions = torch.stack([get_substate(a.item()) for a in grid.flatten()])\n",
    "    rewards = torch.stack([get_reward_2d(actions[j],act_means[j]) for j in range(J)])\n",
    "    exp = (actions,rewards,act_means,q_next) #K\n",
    "    replay.append(exp)\n",
    "    shuffle(replay)\n",
    "    if len(replay) > batch_size: #L\n",
    "        ids = np.random.randint(low=0,high=len(replay),size=batch_size) #M\n",
    "        exps = [replay[idx] for idx in ids]\n",
    "        for j in range(J):\n",
    "            jacts = torch.stack([ex[0][j] for ex in exps]).detach()\n",
    "            jrewards = torch.stack([ex[1][j] for ex in exps]).detach()\n",
    "            jmeans = torch.stack([ex[2][j] for ex in exps]).detach()\n",
    "            vs = torch.stack([ex[3][j] for ex in exps]).detach()\n",
    "            qvals = torch.stack([ qfunc(jmeans[h].detach(),params[0],layers=layers) \\\n",
    "                                 for h in range(batch_size)])\n",
    "            target = qvals.clone().detach()\n",
    "            target[:,torch.argmax(jacts,dim=1)] = jrewards + gamma * vs\n",
    "            loss = torch.sum(torch.pow(qvals - target.detach(),2))\n",
    "            losses[j].append(loss.item())\n",
    "            loss.backward()\n",
    "            with torch.no_grad():\n",
    "                params[0] = params[0] - lr * params[0].grad\n",
    "            params[0].requires_grad = True"
   ]
  },
  {
   "cell_type": "code",
   "execution_count": 14,
   "metadata": {},
   "outputs": [
    {
     "data": {
      "text/plain": [
       "<matplotlib.image.AxesImage at 0x7f3cce9de1c0>"
      ]
     },
     "execution_count": 14,
     "metadata": {},
     "output_type": "execute_result"
    },
    {
     "data": {
      "image/png": "[encoded data removed]",
      "text/plain": [
       "<Figure size 720x720 with 2 Axes>"
      ]
     },
     "metadata": {
      "needs_background": "light"
     },
     "output_type": "display_data"
    }
   ],
   "source": [
    "fig,ax = plt.subplots(2,1)\n",
    "fig.set_size_inches(10,10)\n",
    "ax[0].plot(np.array(losses).mean(axis=0))\n",
    "ax[1].imshow(grid)"
   ]
  },
  {
   "cell_type": "markdown",
   "metadata": {},
   "source": [
    "##### Listing 9.13"
   ]
  },
  {
   "cell_type": "code",
   "execution_count": 17,
   "metadata": {},
   "outputs": [],
   "source": [
    "from pathlib import Path\n",
    "import magent\n",
    "import math\n",
    "from scipy.spatial.distance import cityblock #A\n",
    "map_size = 30\n",
    "env = magent.GridWorld(\"battle\", map_size=map_size) #B\n",
    "magent_path = \"MAgent/build/render\"\n",
    "Path(magent_path).mkdir(parents=True, exist_ok=True)\n",
    "env.set_render_dir(magent_path) #C\n",
    "team1, team2 = env.get_handles() #D"
   ]
  },
  {
   "cell_type": "markdown",
   "metadata": {},
   "source": [
    "##### Listing 9.14"
   ]
  },
  {
   "cell_type": "code",
   "execution_count": 18,
   "metadata": {},
   "outputs": [],
   "source": [
    "hid_layer = 25\n",
    "in_size = 359\n",
    "act_space = 21\n",
    "layers = [(in_size,hid_layer),(hid_layer,act_space)]\n",
    "params = gen_params(2,in_size*hid_layer+hid_layer*act_space) #A\n",
    "map_size = 30\n",
    "width = height = map_size\n",
    "n1 = n2 = 16 #B\n",
    "gap = 1 #C\n",
    "epochs = 100\n",
    "replay_size = 70\n",
    "batch_size = 25\n",
    "\n",
    "\n",
    "side1 = int(math.sqrt(n1)) * 2\n",
    "pos1 = []\n",
    "for x in range(width//2 - gap - side1, width//2 - gap - side1 + side1, 2): #D\n",
    "    for y in range((height - side1)//2, (height - side1)//2 + side1, 2):\n",
    "        pos1.append([x, y, 0])\n",
    "\n",
    "side2 = int(math.sqrt(n2)) * 2\n",
    "pos2 = []\n",
    "for x in range(width//2 + gap, width//2 + gap + side2, 2): #E\n",
    "    for y in range((height - side2)//2, (height - side2)//2 + side2, 2):\n",
    "        pos2.append([x, y, 0])\n",
    "        \n",
    "env.reset()\n",
    "env.add_agents(team1, method=\"custom\", pos=pos1) #F\n",
    "env.add_agents(team2, method=\"custom\", pos=pos2)\n"
   ]
  },
  {
   "cell_type": "code",
   "execution_count": 19,
   "metadata": {},
   "outputs": [
    {
     "data": {
      "text/plain": [
       "<matplotlib.image.AxesImage at 0x7f3ccc0f4a60>"
      ]
     },
     "execution_count": 19,
     "metadata": {},
     "output_type": "execute_result"
    },
    {
     "data": {
      "image/png": "[encoded data removed]",
      "text/plain": [
       "<Figure size 432x288 with 1 Axes>"
      ]
     },
     "metadata": {
      "needs_background": "light"
     },
     "output_type": "display_data"
    }
   ],
   "source": [
    "plt.imshow(env.get_global_minimap(30,30)[:,:,:].sum(axis=2))"
   ]
  },
  {
   "cell_type": "markdown",
   "metadata": {},
   "source": [
    "##### Listing 9.15"
   ]
  },
  {
   "cell_type": "code",
   "execution_count": 20,
   "metadata": {},
   "outputs": [],
   "source": [
    "def get_neighbors(j,pos_list,r=6): #A\n",
    "    neighbors = []\n",
    "    pos_j = pos_list[j]\n",
    "    for i,pos in enumerate(pos_list):\n",
    "        if i == j:\n",
    "            continue\n",
    "        dist = cityblock(pos,pos_j)\n",
    "        if dist < r:\n",
    "            neighbors.append(i)\n",
    "    return neighbors\n"
   ]
  },
  {
   "cell_type": "code",
   "execution_count": 21,
   "metadata": {},
   "outputs": [
    {
     "data": {
      "text/plain": [
       "[0, 1, 2, 4, 6, 7, 8, 9, 10, 13]"
      ]
     },
     "execution_count": 21,
     "metadata": {},
     "output_type": "execute_result"
    }
   ],
   "source": [
    "get_neighbors(5,env.get_pos(team1))"
   ]
  },
  {
   "cell_type": "markdown",
   "metadata": {},
   "source": [
    "##### Listing 9.16"
   ]
  },
  {
   "cell_type": "code",
   "execution_count": 22,
   "metadata": {},
   "outputs": [],
   "source": [
    "def get_onehot(a,l=21): #A\n",
    "    x = torch.zeros(21)\n",
    "    x[a] = 1\n",
    "    return x\n",
    "\n",
    "def get_scalar(v): #B\n",
    "    return torch.argmax(v)\n",
    "\n",
    "def get_mean_field(j,pos_list,act_list,r=7,l=21): #C\n",
    "    neighbors = get_neighbors(j,pos_list,r=r) #D\n",
    "    mean_field = torch.zeros(l)\n",
    "    for k in neighbors:\n",
    "        act_ = act_list[k]\n",
    "        act = get_onehot(act_)\n",
    "        mean_field += act\n",
    "    tot = mean_field.sum()\n",
    "    mean_field = mean_field / tot if tot > 0 else mean_field #E\n",
    "    return mean_field"
   ]
  },
  {
   "cell_type": "markdown",
   "metadata": {},
   "source": [
    "##### Listing 9.17"
   ]
  },
  {
   "cell_type": "code",
   "execution_count": 23,
   "metadata": {},
   "outputs": [],
   "source": [
    "def infer_acts(obs,param,layers,pos_list,acts,act_space=21,num_iter=5,temp=0.5):\n",
    "    N = acts.shape[0] #A\n",
    "    mean_fields = torch.zeros(N,act_space)\n",
    "    acts_ = acts.clone() #B\n",
    "    qvals = torch.zeros(N,act_space)\n",
    "\n",
    "    for i in range(num_iter): #C\n",
    "        for j in range(N): #D\n",
    "            mean_fields[j] = get_mean_field(j,pos_list,acts_)\n",
    "\n",
    "        for j in range(N): #E\n",
    "            state = torch.cat((obs[j].flatten(),mean_fields[j]))\n",
    "            qs = qfunc(state.detach(),param,layers=layers)\n",
    "            qvals[j,:] = qs[:]\n",
    "            acts_[j] = softmax_policy(qs.detach(),temp=temp)\n",
    "    return acts_, mean_fields, qvals\n",
    "\n",
    "def init_mean_field(N,act_space=21):\n",
    "    mean_fields = torch.abs(torch.rand(N,act_space))\n",
    "    for i in range(mean_fields.shape[0]):\n",
    "        mean_fields[i] = mean_fields[i] / mean_fields[i].sum()\n",
    "    return mean_fields"
   ]
  },
  {
   "cell_type": "markdown",
   "metadata": {},
   "source": [
    "##### Listing 9.18"
   ]
  },
  {
   "cell_type": "code",
   "execution_count": 24,
   "metadata": {},
   "outputs": [],
   "source": [
    "def train(batch_size,replay,param,layers,J=64,gamma=0.5,lr=0.001):\n",
    "    ids = np.random.randint(low=0,high=len(replay),size=batch_size)\n",
    "    exps = [replay[idx] for idx in ids]\n",
    "    losses = []\n",
    "    jobs = torch.stack([ex[0] for ex in exps]).detach() #stack\n",
    "    jacts = torch.stack([ex[1] for ex in exps]).detach()\n",
    "    jrewards = torch.stack([ex[2] for ex in exps]).detach()\n",
    "    jmeans = torch.stack([ex[3] for ex in exps]).detach()\n",
    "    vs = torch.stack([ex[4] for ex in exps]).detach()\n",
    "    qs = []\n",
    "    for h in range(batch_size):\n",
    "        state = torch.cat((jobs[h].flatten(),jmeans[h]))\n",
    "        qs.append(qfunc(state.detach(),param,layers=layers))\n",
    "    qvals = torch.stack(qs)\n",
    "    target = qvals.clone().detach()\n",
    "    target[:,jacts] = jrewards + gamma * torch.max(vs,dim=1)[0] #20 = 20 + 20\n",
    "    loss = torch.sum(torch.pow(qvals - target.detach(),2))\n",
    "    losses.append(loss.detach().item())\n",
    "    loss.backward()\n",
    "    #SGD\n",
    "    with torch.no_grad():\n",
    "        param = param - lr * param.grad\n",
    "    param.requires_grad = True\n",
    "    return np.array(losses).mean()"
   ]
  },
  {
   "cell_type": "markdown",
   "metadata": {},
   "source": [
    "##### Listing 9.19"
   ]
  },
  {
   "cell_type": "code",
   "execution_count": 25,
   "metadata": {},
   "outputs": [],
   "source": [
    "N1 = env.get_num(team1) #A\n",
    "N2 = env.get_num(team2)\n",
    "step_ct = 0\n",
    "acts_1 = torch.randint(low=0,high=act_space,size=(N1,)) #B\n",
    "acts_2 = torch.randint(low=0,high=act_space,size=(N2,))\n",
    "\n",
    "replay1 = deque(maxlen=replay_size) #C\n",
    "replay2 = deque(maxlen=replay_size)\n",
    "\n",
    "qnext1 = torch.zeros(N1) #D\n",
    "qnext2 = torch.zeros(N2)\n",
    "\n",
    "act_means1 = init_mean_field(N1,act_space)  #E\n",
    "act_means2 = init_mean_field(N2,act_space)\n",
    "\n",
    "rewards1 = torch.zeros(N1) #F\n",
    "rewards2 = torch.zeros(N2)\n",
    "\n",
    "losses1 = []\n",
    "losses2 = []"
   ]
  },
  {
   "cell_type": "markdown",
   "metadata": {},
   "source": [
    "##### Listing 9.20"
   ]
  },
  {
   "cell_type": "code",
   "execution_count": 26,
   "metadata": {},
   "outputs": [],
   "source": [
    "def team_step(team,param,acts,layers):\n",
    "    obs = env.get_observation(team) #A\n",
    "    ids = env.get_agent_id(team) #B\n",
    "    obs_small = torch.from_numpy(obs[0][:,:,:,[1,4]]) #C\n",
    "    agent_pos = env.get_pos(team) #D \n",
    "    acts, act_means, qvals = infer_acts(obs_small,\\\n",
    "                                       param,layers,agent_pos,acts) #E\n",
    "    return acts, act_means, qvals, obs_small, ids\n",
    "\n",
    "def add_to_replay(replay,obs_small, acts,rewards,act_means,qnext): #F\n",
    "    for j in range(rewards.shape[0]): #G\n",
    "        exp = (obs_small[j], acts[j],rewards[j],act_means[j],qnext[j])\n",
    "        replay.append(exp)\n",
    "        \n",
    "    return replay"
   ]
  },
  {
   "cell_type": "markdown",
   "metadata": {},
   "source": [
    "##### Listing 9.21"
   ]
  },
  {
   "cell_type": "code",
   "execution_count": 27,
   "metadata": {},
   "outputs": [],
   "source": [
    "for i in range(epochs):\n",
    "    done = False\n",
    "    while not done: #A\n",
    "        acts_1, act_means1, qvals1, obs_small_1, ids_1 = \\\n",
    "            team_step(team1,params[0],acts_1,layers) #B\n",
    "        env.set_action(team1, acts_1.detach().numpy().astype(np.int32)) #C\n",
    "\n",
    "        acts_2, act_means2, qvals2, obs_small_2, ids_2 = \\\n",
    "            team_step(team2,params[0],acts_2,layers)\n",
    "        env.set_action(team2, acts_2.detach().numpy().astype(np.int32))\n",
    "\n",
    "        done = env.step() #D\n",
    "\n",
    "        _, _, qnext1, _, ids_1 = team_step(team1,params[0],acts_1,layers) #E\n",
    "        _, _, qnext2, _, ids_2 = team_step(team2,params[0],acts_2,layers)\n",
    "\n",
    "        env.render() #F\n",
    "\n",
    "        rewards1 = torch.from_numpy(env.get_reward(team1)).float() #G\n",
    "        rewards2 = torch.from_numpy(env.get_reward(team2)).float()\n",
    "        #\n",
    "        #\n",
    "        #\n",
    "        replay1 = add_to_replay(replay1, obs_small_1, acts_1,rewards1,act_means1,qnext1) #A\n",
    "        replay2 = add_to_replay(replay2, obs_small_2, acts_2,rewards2,act_means2,qnext2)     \n",
    "        shuffle(replay1) #B\n",
    "        shuffle(replay2)\n",
    "        \n",
    "        ids_1_ = list(zip(np.arange(ids_1.shape[0]),ids_1)) #C\n",
    "        ids_2_ = list(zip(np.arange(ids_2.shape[0]),ids_2))\n",
    "        \n",
    "        env.clear_dead() #D\n",
    "        \n",
    "        ids_1  = env.get_agent_id(team1) #E\n",
    "        ids_2  = env.get_agent_id(team2)\n",
    "        \n",
    "        ids_1_ = [i for (i,j) in ids_1_ if j in ids_1] #F\n",
    "        ids_2_ = [i for (i,j) in ids_2_ if j in ids_2]\n",
    "        \n",
    "        acts_1 = acts_1[ids_1_] #G\n",
    "        acts_2 = acts_2[ids_2_]\n",
    "        \n",
    "        step_ct += 1\n",
    "        if step_ct > 250:\n",
    "            break\n",
    "            \n",
    "        if len(replay1) > batch_size and len(replay2) > batch_size: #H\n",
    "            loss1 = train(batch_size,replay1,params[0],layers=layers,J=N1)\n",
    "            loss2 = train(batch_size,replay2,params[1],layers=layers,J=N1)\n",
    "            losses1.append(loss1)\n",
    "            losses2.append(loss2)"
   ]
  },
  {
   "cell_type": "code",
   "execution_count": null,
   "metadata": {},
   "outputs": [],
   "source": []
  }
 ],
 "metadata": {
  "kernelspec": {
   "display_name": "deep-rl-notebooks-poetry",
   "language": "python",
   "name": "deep-rl-notebooks-poetry"
  },
  "language_info": {
   "codemirror_mode": {
    "name": "ipython",
    "version": 3
   },
   "file_extension": ".py",
   "mimetype": "text/x-python",
   "name": "python",
   "nbconvert_exporter": "python",
   "pygments_lexer": "ipython3",
   "version": "3.8.5"
  }
 },
 "nbformat": 4,
 "nbformat_minor": 4
}
