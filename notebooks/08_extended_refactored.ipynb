{
 "cells": [
  {
   "cell_type": "markdown",
   "metadata": {},
   "source": [
    "# Deep Reinforcement Learning in Action - Chaper 8 - Intrinsic Curiosity Module - Refactor and Extended"
   ]
  },
  {
   "cell_type": "markdown",
   "metadata": {},
   "source": [
    "- save model, load model\n",
    "- save plots of losses and episode lengths\n",
    "- bug fixes including fixing large memory footprint from saving tensors with gradients to a list\n",
    "- exposes additional hparams through the param dictionary"
   ]
  },
  {
   "cell_type": "code",
   "execution_count": 1,
   "metadata": {},
   "outputs": [],
   "source": [
    "import gym\n",
    "from nes_py.wrappers import JoypadSpace  # A\n",
    "import gym_super_mario_bros\n",
    "from gym_super_mario_bros.actions import SIMPLE_MOVEMENT, COMPLEX_MOVEMENT  # B\n",
    "\n",
    "import torch\n",
    "from torch import nn\n",
    "from torch import optim\n",
    "import torch.nn.functional as F\n",
    "from collections import deque\n",
    "from tqdm.notebook import trange\n",
    "\n",
    "from random import shuffle\n",
    "\n",
    "import matplotlib.pyplot as plt\n",
    "from skimage.transform import resize  # A\n",
    "import numpy as np"
   ]
  },
  {
   "cell_type": "markdown",
   "metadata": {},
   "source": [
    "## Random Agent Mario"
   ]
  },
  {
   "cell_type": "code",
   "execution_count": 2,
   "metadata": {},
   "outputs": [],
   "source": [
    "env = gym_super_mario_bros.make('SuperMarioBros-v0')\n",
    "env = JoypadSpace(env, COMPLEX_MOVEMENT)  # C\n",
    "\n",
    "done = True\n",
    "for step in range(2500):  # D\n",
    "    if done:\n",
    "        state = env.reset()\n",
    "    state, reward, done, info = env.step(env.action_space.sample())\n",
    "    env.render()\n",
    "env.close()"
   ]
  },
  {
   "cell_type": "markdown",
   "metadata": {},
   "source": [
    "## Downscaling"
   ]
  },
  {
   "cell_type": "code",
   "execution_count": 3,
   "metadata": {},
   "outputs": [],
   "source": [
    "# code intentionally duplicated in training code block\n",
    "def downscale_obs(obs, new_size=(42, 42), to_gray=True):\n",
    "    if to_gray:\n",
    "        return resize(obs, new_size, anti_aliasing=True).max(axis=2)  # B\n",
    "    else:\n",
    "        return resize(obs, new_size, anti_aliasing=True)"
   ]
  },
  {
   "cell_type": "code",
   "execution_count": 4,
   "metadata": {},
   "outputs": [
    {
     "data": {
      "text/plain": [
       "<matplotlib.image.AxesImage at 0x7f282fdee520>"
      ]
     },
     "execution_count": 4,
     "metadata": {},
     "output_type": "execute_result"
    },
    {
     "data": {
      "image/png": "[encoded data removed]",
      "text/plain": [
       "<Figure size 432x288 with 1 Axes>"
      ]
     },
     "metadata": {
      "needs_background": "light"
     },
     "output_type": "display_data"
    }
   ],
   "source": [
    "env = gym_super_mario_bros.make('SuperMarioBros-v0')\n",
    "\n",
    "plt.imshow(env.render(\"rgb_array\"))"
   ]
  },
  {
   "cell_type": "code",
   "execution_count": 5,
   "metadata": {},
   "outputs": [
    {
     "data": {
      "text/plain": [
       "<matplotlib.image.AxesImage at 0x7f282fd7fd30>"
      ]
     },
     "execution_count": 5,
     "metadata": {},
     "output_type": "execute_result"
    },
    {
     "data": {
      "image/png": "[encoded data removed]",
      "text/plain": [
       "<Figure size 432x288 with 1 Axes>"
      ]
     },
     "metadata": {
      "needs_background": "light"
     },
     "output_type": "display_data"
    }
   ],
   "source": [
    "plt.imshow(downscale_obs(env.render(\"rgb_array\")))"
   ]
  },
  {
   "cell_type": "code",
   "execution_count": 6,
   "metadata": {},
   "outputs": [],
   "source": [
    "env.close()"
   ]
  },
  {
   "cell_type": "markdown",
   "metadata": {},
   "source": [
    "## Train Agent"
   ]
  },
  {
   "cell_type": "code",
   "execution_count": 7,
   "metadata": {},
   "outputs": [
    {
     "name": "stdout",
     "output_type": "stream",
     "text": [
      "2021-11-01 09:51:21,027 - __main__ - INFO - Pytorch using device: cuda\n"
     ]
    },
    {
     "data": {
      "application/vnd.jupyter.widget-view+json": {
       "model_id": "c2909d128e4b49598dd163a4ad8bae0f",
       "version_major": 2,
       "version_minor": 0
      },
      "text/plain": [
       "  0%|          | 0/6000 [00:00<?, ?it/s]"
      ]
     },
     "metadata": {},
     "output_type": "display_data"
    }
   ],
   "source": [
    "# Curiosity-driven Exploration by Self-supervised Prediction\n",
    "# https://pathak22.github.io/noreward-rl/resources/icml17.pdf\n",
    "# https://github.com/pathak22/noreward-rl/blob/master/src/constants.py\n",
    "\n",
    "# TODO: distributional, n-step\n",
    "\n",
    "import logging\n",
    "import sys\n",
    "from einops import rearrange\n",
    "\n",
    "LOGGER = logging.getLogger(__name__)\n",
    "LOGGER.setLevel(logging.INFO)\n",
    "handler = logging.StreamHandler(sys.stdout)\n",
    "handler.setLevel(logging.DEBUG)\n",
    "formatter = logging.Formatter('%(asctime)s - %(name)s - %(levelname)s - %(message)s')\n",
    "handler.setFormatter(formatter)\n",
    "LOGGER.addHandler(handler)\n",
    "\n",
    "device = torch.device('cuda' if torch.cuda.is_available() else 'cpu')\n",
    "LOGGER.info('Pytorch using device: %s', device)\n",
    "\n",
    "\n",
    "# Listing 8.9\n",
    "default_params_book = {\n",
    "    'batch_size': 150,\n",
    "    'beta': 0.2,\n",
    "    'lambda': 0.1,\n",
    "    'eta': 1.0,\n",
    "    'gamma': 0.2,\n",
    "    'max_episode_len': 100,  # this is really the max episode length without exceeding min_progress\n",
    "    'min_progress': 15,\n",
    "    'action_repeats': 6,  # something is hard-coded where it will throw an error if < 3\n",
    "    'frames_per_state': 3,  # book uses 3 and hardcoded it into the models\n",
    "    'epochs': 5000,\n",
    "    'eps': 0.15,\n",
    "    'test_eps': 0.15,\n",
    "    'switch_to_eps_greedy': 1000,\n",
    "    'use_extrinsic': False,\n",
    "    'experience_replay_length': 1000,\n",
    "    'learning_rate': 0.001,\n",
    "    'include_LSTM': False,\n",
    "}\n",
    "\n",
    "default_params_paper = {\n",
    "    'batch_size': 1000,\n",
    "    'beta': 0.2,\n",
    "    'lambda': 1.0,\n",
    "    'eta': 0.01,\n",
    "    'gamma': 0.99,\n",
    "    'max_episode_len': 100,  # this is really the max episode length without exceeding min_progress\n",
    "    'min_progress': 15,\n",
    "    \n",
    "    # something about the creation of state2 on first pass causes it to throw an error if < frames_per_state\n",
    "    # now fixed\n",
    "    'action_repeats': 6,\n",
    "    \n",
    "    'frames_per_state': 6,  # book uses 3 and hardcoded it into the models\n",
    "    'epochs': 6000,\n",
    "    'eps': 0.15,\n",
    "    'test_eps': 0.15,\n",
    "    'switch_to_eps_greedy': 1000,\n",
    "    'use_extrinsic': True,\n",
    "    'experience_replay_length': 1000,\n",
    "    'learning_rate': 0.001,\n",
    "    'include_LSTM': True,\n",
    "}\n",
    "\n",
    "params = {\n",
    "    'batch_size': 1000,\n",
    "    'beta': 0.2,\n",
    "    'lambda': 1.0,\n",
    "    'eta': 0.01,\n",
    "    'gamma': 0.99,\n",
    "    'max_episode_len': 100,  # this is really the max episode length without exceeding min_progress\n",
    "    'min_progress': 15,\n",
    "    \n",
    "    # something about the creation of state2 on first pass causes it to throw an error if < frames_per_state\n",
    "    # now fixed\n",
    "    'action_repeats': 6,\n",
    "    \n",
    "    'frames_per_state': 6,  # book uses 3 and hardcoded it into the models\n",
    "    'epochs': 6000,\n",
    "    'eps': 0.15,\n",
    "    'test_eps': 0.15,\n",
    "    'switch_to_eps_greedy': 1000,\n",
    "    'use_extrinsic': True,\n",
    "    'experience_replay_length': 1000,\n",
    "    'learning_rate': 0.001,\n",
    "    'include_LSTM': True,\n",
    "}\n",
    "\n",
    "\n",
    "# Listing 8.2\n",
    "def downscale_obs(obs, new_size=(42, 42), to_gray=True):\n",
    "    if to_gray:\n",
    "        return resize(obs, new_size, anti_aliasing=True).max(axis=2)  # B\n",
    "    else:\n",
    "        return resize(obs, new_size, anti_aliasing=True)\n",
    "\n",
    "    \n",
    "# Listing 8.4\n",
    "def prepare_state(state):  # A\n",
    "    return torch.from_numpy(downscale_obs(state, to_gray=True)).float().unsqueeze(dim=0)\n",
    "\n",
    "\n",
    "def prepare_multi_state(state1, state2):  # B\n",
    "    state1 = state1.clone()\n",
    "    tmp = torch.from_numpy(downscale_obs(state2, to_gray=True)).float()\n",
    "    state1[0][0] = state1[0][1]\n",
    "    state1[0][1] = state1[0][2]\n",
    "    state1[0][2] = tmp\n",
    "    return state1\n",
    "\n",
    "\n",
    "def prepare_initial_state(state, N=params['frames_per_state']):  # C\n",
    "    state_ = torch.from_numpy(downscale_obs(state, to_gray=True)).float()\n",
    "    tmp = state_.repeat((N, 1, 1))\n",
    "    return tmp.unsqueeze(dim=0)\n",
    "\n",
    "\n",
    "# Listing 8.5\n",
    "def policy(qvalues, eps=None):  # A\n",
    "    if eps is not None:\n",
    "        if torch.rand(1) < eps:\n",
    "            return torch.randint(low=0, high=7, size=(1,))\n",
    "        else:\n",
    "            return torch.argmax(qvalues)\n",
    "    else:\n",
    "        # if epsilon (eps) is not provided, use a softmax policy by sampling from the softmax\n",
    "        # using the torch.multinomial function\n",
    "        LOGGER.debug(\"q values shape: %s\", qvalues.shape)\n",
    "        return torch.multinomial(F.softmax(F.normalize(qvalues), dim=1), num_samples=1)\n",
    "\n",
    "    \n",
    "# Listing 8.6\n",
    "class ExperienceReplay:\n",
    "    def __init__(self, N=500, batch_size=100):\n",
    "        self.N = N  # A\n",
    "        self.batch_size = batch_size  # B\n",
    "        self.memory = []\n",
    "        self.counter = 0\n",
    "\n",
    "    def add_memory(self, state1, action, reward, state2):\n",
    "        self.counter += 1\n",
    "        if self.counter % 500 == 0:  # C\n",
    "            self.shuffle_memory()\n",
    "\n",
    "        if len(self.memory) < self.N:  # D\n",
    "            self.memory.append((state1, action, reward, state2))\n",
    "        else:\n",
    "            rand_index = np.random.randint(0, self.N-1)\n",
    "            self.memory[rand_index] = (state1, action, reward, state2)\n",
    "\n",
    "    def shuffle_memory(self):  # E\n",
    "        shuffle(self.memory)\n",
    "\n",
    "    def get_batch(self):  # F\n",
    "        if len(self.memory) < self.batch_size:\n",
    "            batch_size = len(self.memory)\n",
    "        else:\n",
    "            batch_size = self.batch_size\n",
    "        if len(self.memory) < 1:\n",
    "            LOGGER.error(\"Error: No data in memory.\")\n",
    "            return None\n",
    "        # G\n",
    "        ind = np.random.choice(np.arange(len(self.memory)),\n",
    "                               batch_size, replace=False)\n",
    "        batch = [self.memory[i] for i in ind]  # batch is a list of tuples\n",
    "        state1_batch = torch.stack([x[0].squeeze(dim=0) for x in batch], dim=0)\n",
    "        action_batch = torch.Tensor([x[1] for x in batch]).long()\n",
    "        reward_batch = torch.Tensor([x[2] for x in batch])\n",
    "        state2_batch = torch.stack([x[3].squeeze(dim=0) for x in batch], dim=0)\n",
    "        LOGGER.debug(state2_batch.shape)\n",
    "        return state1_batch, action_batch, reward_batch, state2_batch\n",
    "\n",
    "    \n",
    "# Listing 8.7\n",
    "class Phi(nn.Module):  # A\n",
    "    def __init__(self):\n",
    "        super(Phi, self).__init__()\n",
    "        self.conv1 = nn.Conv2d(\n",
    "            params['frames_per_state'], 32, kernel_size=(3, 3), stride=2, padding=1)\n",
    "        self.conv2 = nn.Conv2d(32, 32, kernel_size=(3, 3), stride=2, padding=1)\n",
    "        self.conv3 = nn.Conv2d(32, 32, kernel_size=(3, 3), stride=2, padding=1)\n",
    "        self.conv4 = nn.Conv2d(32, 32, kernel_size=(3, 3), stride=2, padding=1)\n",
    "\n",
    "    def forward(self, x):\n",
    "        x = F.normalize(x)\n",
    "        y = F.elu(self.conv1(x))\n",
    "        y = F.elu(self.conv2(y))\n",
    "        y = F.elu(self.conv3(y))\n",
    "        y = F.elu(self.conv4(y))  # size [1, 32, 3, 3] batch, channels, 3 x 3\n",
    "        y = y.flatten(start_dim=1)  # size N, 288\n",
    "        return y\n",
    "\n",
    "\n",
    "class Gnet(nn.Module):  # B\n",
    "    def __init__(self):\n",
    "        super(Gnet, self).__init__()\n",
    "        self.linear1 = nn.Linear(576, 256)\n",
    "        self.linear2 = nn.Linear(256, 12)\n",
    "\n",
    "    def forward(self, state1, state2):\n",
    "        x = torch.cat((state1, state2), dim=1)\n",
    "        y = F.relu(self.linear1(x))\n",
    "        y = self.linear2(y)\n",
    "        y = F.softmax(y, dim=1)\n",
    "        return y\n",
    "\n",
    "\n",
    "class Fnet(nn.Module):  # C\n",
    "    def __init__(self):\n",
    "        super(Fnet, self).__init__()\n",
    "        self.linear1 = nn.Linear(300, 256)\n",
    "        self.linear2 = nn.Linear(256, 288)\n",
    "\n",
    "    def forward(self, state, action):\n",
    "        action_ = torch.zeros(action.shape[0], 12)  # D\n",
    "        indices = torch.stack(\n",
    "            (torch.arange(action.shape[0]), action.squeeze()), dim=0)\n",
    "        indices = indices.tolist()\n",
    "        action_[indices] = 1.\n",
    "        x = torch.cat((state, action_), dim=1)\n",
    "        y = F.relu(self.linear1(x))\n",
    "        y = self.linear2(y)\n",
    "        return y\n",
    "\n",
    "\n",
    "# Listing 8.8\n",
    "class Qnetwork(nn.Module):\n",
    "    def __init__(self):\n",
    "        super(Qnetwork, self).__init__()\n",
    "        # in_channels, out_channels, kernel_size, stride=1, padding=0\n",
    "        self.conv1 = nn.Conv2d(in_channels=params['frames_per_state'], out_channels=32, kernel_size=(\n",
    "            3, 3), stride=2, padding=1)\n",
    "        self.conv2 = nn.Conv2d(32, 32, kernel_size=(3, 3), stride=2, padding=1)\n",
    "        self.conv3 = nn.Conv2d(32, 32, kernel_size=(3, 3), stride=2, padding=1)\n",
    "        self.conv4 = nn.Conv2d(32, 32, kernel_size=(3, 3), stride=2, padding=1)\n",
    "        self.linear1 = nn.Linear(288, 100)\n",
    "        self.linear2 = nn.Linear(100, 12)\n",
    "        self.batchnorm1 = nn.BatchNorm2d(32)\n",
    "        self.batchnorm2 = nn.BatchNorm2d(32)\n",
    "        self.batchnorm3 = nn.BatchNorm2d(32)\n",
    "        self.batchnorm4 = nn.BatchNorm2d(32)\n",
    "        self.lstm = nn.LSTM(input_size=9, hidden_size=288, batch_first=True)\n",
    "\n",
    "    def forward(self, x):\n",
    "        x = F.normalize(x)\n",
    "        LOGGER.debug(\"DQN input shape: %s\", x.shape)\n",
    "        y = F.elu(self.conv1(x))\n",
    "        LOGGER.debug(\"DQN conv1 output shape: %s\", y.shape)\n",
    "        y = self.batchnorm1(y)\n",
    "        y = F.elu(self.conv2(y))\n",
    "        y = self.batchnorm2(y)\n",
    "        y = F.elu(self.conv3(y))\n",
    "        y = self.batchnorm3(y)\n",
    "        y = F.elu(self.conv4(y))\n",
    "        y = self.batchnorm4(y)\n",
    "        LOGGER.debug(\"shape before lstm: %s\", y.shape)\n",
    "        if params['include_LSTM'] == True:\n",
    "            y = rearrange(y, 'batch channels x y -> batch channels (x y)')\n",
    "            _, (_, y) = self.lstm(y)\n",
    "            LOGGER.debug(\"shape after lstm: %s\", y.shape)\n",
    "            y = rearrange(\n",
    "                y, 'd batch hidden -> (d batch) hidden', d=1, hidden=288)\n",
    "        else:\n",
    "            y = y.flatten(start_dim=2)\n",
    "            y = y.view(y.shape[0], -1, 32)\n",
    "            y = y.flatten(start_dim=1)\n",
    "        y = F.elu(self.linear1(y))\n",
    "        y = self.linear2(y)  # size N, 12\n",
    "        return y\n",
    "\n",
    "\n",
    "# Listing 8.9\n",
    "replay = ExperienceReplay(\n",
    "    N=params['experience_replay_length'], batch_size=params['batch_size'])\n",
    "Qmodel = Qnetwork()\n",
    "encoder = Phi()\n",
    "forward_model = Fnet()\n",
    "inverse_model = Gnet()\n",
    "forward_loss = nn.MSELoss(reduction='none')\n",
    "inverse_loss = nn.CrossEntropyLoss(reduction='none')\n",
    "qloss = nn.MSELoss()\n",
    "all_model_params = list(Qmodel.parameters()) + list(encoder.parameters())  # A\n",
    "all_model_params += list(forward_model.parameters()) + \\\n",
    "    list(inverse_model.parameters())\n",
    "opt = optim.Adam(lr=params['learning_rate'], params=all_model_params)\n",
    "\n",
    "\n",
    "# Listing 8.10\n",
    "def loss_fn(q_loss, inverse_loss, forward_loss):\n",
    "    \"\"\"\n",
    "    book: minimize[λ × Qloss + (1 – β)Floss + β × Gloss]\n",
    "    paper: minimize[λ × Qloss + (1 – β)I_loss + (β)F_loss]\n",
    "    forward model is F\n",
    "    inverse model is G\n",
    "    \"\"\"\n",
    "    loss_ = (1 - params['beta']) * inverse_loss\n",
    "    loss_ += params['beta'] * forward_loss\n",
    "    loss_ = loss_.sum() / loss_.flatten().shape[0]\n",
    "    loss = loss_ + params['lambda'] * q_loss\n",
    "    return loss\n",
    "\n",
    "\n",
    "def reset_env():\n",
    "    \"\"\"\n",
    "    Reset the environment and return a new initial state\n",
    "    \"\"\"\n",
    "    env.reset()\n",
    "    state1 = prepare_initial_state(env.render('rgb_array'))\n",
    "    return state1\n",
    "\n",
    "\n",
    "# Listing 8.11\n",
    "def ICM(state1, action, state2, forward_scale=1., inverse_scale=1e4):\n",
    "    state1_hat = encoder(state1)  # A\n",
    "    state2_hat = encoder(state2)\n",
    "    state2_hat_pred = forward_model(state1_hat.detach(), action.detach())  # B\n",
    "    forward_pred_err = forward_scale * forward_loss(state2_hat_pred,\n",
    "                                                    state2_hat.detach()).sum(dim=1).unsqueeze(dim=1)\n",
    "    pred_action = inverse_model(state1_hat, state2_hat)  # C\n",
    "    inverse_pred_err = inverse_scale * inverse_loss(pred_action,\n",
    "                                                    action.detach().flatten()).unsqueeze(dim=1)\n",
    "    return forward_pred_err, inverse_pred_err\n",
    "\n",
    "\n",
    "# Listing 8.12\n",
    "def minibatch_train(use_extrinsic=True):\n",
    "    state1_batch, action_batch, reward_batch, state2_batch = replay.get_batch()\n",
    "    action_batch = action_batch.view(action_batch.shape[0], 1)  # A\n",
    "    reward_batch = reward_batch.view(reward_batch.shape[0], 1)\n",
    "\n",
    "    forward_pred_err, inverse_pred_err = ICM(\n",
    "        state1_batch, action_batch, state2_batch)  # B\n",
    "    i_reward = (1. / params['eta']) * forward_pred_err  # C\n",
    "    reward = i_reward.detach()  # D\n",
    "    if use_extrinsic:  # E\n",
    "        reward += reward_batch\n",
    "    qvals = Qmodel(state2_batch)  # F\n",
    "    reward += params['gamma'] * torch.max(qvals)\n",
    "    reward_pred = Qmodel(state1_batch)\n",
    "    reward_target = reward_pred.clone()\n",
    "    indices = torch.stack((torch.arange(action_batch.shape[0]),\n",
    "                           action_batch.squeeze()), dim=0)\n",
    "    indices = indices.tolist()\n",
    "    reward_target[indices] = reward.squeeze()\n",
    "    q_loss = 1e5 * qloss(F.normalize(reward_pred),\n",
    "                         F.normalize(reward_target.detach()))\n",
    "    return forward_pred_err, inverse_pred_err, q_loss\n",
    "\n",
    "\n",
    "# Listing 8.13\n",
    "env = gym_super_mario_bros.make('SuperMarioBros-v0')\n",
    "env = JoypadSpace(env, COMPLEX_MOVEMENT)  # C\n",
    "\n",
    "env.reset()\n",
    "state1 = prepare_initial_state(env.render('rgb_array'))\n",
    "\n",
    "losses = []\n",
    "episode_length = 0\n",
    "\n",
    "# this prevents storing more action repeats than frames_per_state\n",
    "state_deque = deque(maxlen=params['frames_per_state'])\n",
    "e_reward = 0.\n",
    "\n",
    "# keep track of the last x position in order to reset it if there's no forward progress\n",
    "last_x_pos = env.env.env._x_position\n",
    "\n",
    "ep_lengths = []\n",
    "for i in trange(params['epochs']):\n",
    "    opt.zero_grad()\n",
    "    episode_length += 1\n",
    "    # run DQN forward to get action-value predictions\n",
    "    q_val_pred = Qmodel(state1)\n",
    "    # after x epochs, switch to the epsilon-greedy policy\n",
    "    if i > params['switch_to_eps_greedy']:\n",
    "        action = int(policy(q_val_pred, params['eps']))\n",
    "    else:\n",
    "        action = int(policy(q_val_pred))\n",
    "    # repeat action selected by policy x times to speed up learning\n",
    "    for j in range(params['action_repeats']):\n",
    "        state2, e_reward_, done, info = env.step(action)\n",
    "        last_x_pos = info['x_pos']\n",
    "        if done:\n",
    "            state1 = reset_env()\n",
    "            break\n",
    "        e_reward += e_reward_\n",
    "        state_deque.append(prepare_state(state2))\n",
    "    while len(state_deque) < params['frames_per_state']:\n",
    "        print(\"adding to queue\")\n",
    "        # this should prevent the error caused when action_repeats < frames_per_state\n",
    "        state_deque.append(prepare_state(state2))\n",
    "    # convert deque object into a tensor\n",
    "    state2 = torch.stack(list(state_deque), dim=1)\n",
    "    LOGGER.debug(\"state2.shape: %s\", state2.shape)\n",
    "    # add single experience to replay buffer\n",
    "    replay.add_memory(state1, action, e_reward, state2)\n",
    "    e_reward = 0\n",
    "    # if Mario is not making enough forward progress, restart game\n",
    "    if episode_length > params['max_episode_len']:\n",
    "        if (info['x_pos'] - last_x_pos) < params['min_progress']:\n",
    "            done = True\n",
    "        else:\n",
    "            last_x_pos = info['x_pos']\n",
    "    if done:\n",
    "        ep_lengths.append(info['x_pos'])\n",
    "        state1 = reset_env()\n",
    "        last_x_pos = env.env.env._x_position\n",
    "        episode_length = 0\n",
    "    else:\n",
    "        # this causes an error when action_repeats < frames_per_state\n",
    "        LOGGER.debug(\"state2.shape: %s\", state2.shape)\n",
    "        state1 = state2\n",
    "    if params['experience_replay_length'] < params['batch_size']:\n",
    "        raise ValueError(\n",
    "            \"params['experience_replay_length'] < params['batch_size'] will cause model not to train\")\n",
    "    if len(replay.memory) < params['batch_size']:\n",
    "        continue\n",
    "    forward_pred_err, inverse_pred_err, q_loss = minibatch_train(\n",
    "        use_extrinsic=params['use_extrinsic'])  # get errors for one mini-batch of data from replay buffer\n",
    "\n",
    "    # compute overall loss\n",
    "    loss = loss_fn(q_loss=q_loss,\n",
    "                   inverse_loss=inverse_pred_err,\n",
    "                   forward_loss=forward_pred_err)\n",
    "\n",
    "    # it's important to not save the losses to a list directly because then you're saving the gradients as well\n",
    "    loss_list = (q_loss.mean().detach().numpy(), forward_pred_err.flatten().mean().detach().numpy(),\n",
    "                 inverse_pred_err.flatten().mean().detach().numpy())\n",
    "    LOGGER.debug(\"loss list: %s\", loss_list)\n",
    "    losses.append(loss_list)\n",
    "    loss.backward()\n",
    "    opt.step()\n",
    "env.close()"
   ]
  },
  {
   "cell_type": "markdown",
   "metadata": {},
   "source": [
    "## Name model for saving files"
   ]
  },
  {
   "cell_type": "code",
   "execution_count": 8,
   "metadata": {},
   "outputs": [],
   "source": [
    "model_version_name = 'mario_curiosity_model_with_extrinsic_reward_long_frames_per_state_v5'"
   ]
  },
  {
   "cell_type": "markdown",
   "metadata": {},
   "source": [
    "## Plot losses and episode length"
   ]
  },
  {
   "cell_type": "code",
   "execution_count": 9,
   "metadata": {},
   "outputs": [
    {
     "data": {
      "image/png": "[encoded data removed]",
      "text/plain": [
       "<Figure size 576x432 with 1 Axes>"
      ]
     },
     "metadata": {
      "needs_background": "light"
     },
     "output_type": "display_data"
    }
   ],
   "source": [
    "## now handling this inside the training function\n",
    "# losses_ = np.array([tuple([loss.detach().numpy()\n",
    "#                    for loss in loss_tensor_tuple]) for loss_tensor_tuple in losses])\n",
    "\n",
    "losses_ = np.array(losses)\n",
    "plt.figure(figsize=(8, 6))\n",
    "plt.plot(np.log(losses_[:, 0]), label='Q loss')\n",
    "plt.plot(np.log(losses_[:, 1]), label='Forward loss')\n",
    "plt.plot(np.log(losses_[:, 2]), label='Inverse loss')\n",
    "plt.legend()\n",
    "plt.savefig(f'{model_version_name}_losses.png')\n",
    "plt.show()\n",
    "\n",
    "# https://stackoverflow.com/questions/55466298/pytorch-cant-call-numpy-on-variable-that-requires-grad-use-var-detach-num\n",
    "# https://stackoverflow.com/questions/16940293/why-is-there-no-tuple-comprehension-in-python"
   ]
  },
  {
   "cell_type": "code",
   "execution_count": 10,
   "metadata": {},
   "outputs": [
    {
     "data": {
      "image/png": "[encoded data removed]",
      "text/plain": [
       "<Figure size 432x288 with 1 Axes>"
      ]
     },
     "metadata": {
      "needs_background": "light"
     },
     "output_type": "display_data"
    }
   ],
   "source": [
    "plt.figure()\n",
    "plt.plot(np.array(ep_lengths), label='Episode length')\n",
    "# plt.xlabel('Training time')\n",
    "# plt.ylabel('Episode length')\n",
    "plt.legend()\n",
    "plt.savefig(f'{model_version_name}_episode_lengths.png')\n",
    "plt.show()"
   ]
  },
  {
   "cell_type": "markdown",
   "metadata": {},
   "source": [
    "## save model"
   ]
  },
  {
   "cell_type": "code",
   "execution_count": 11,
   "metadata": {},
   "outputs": [],
   "source": [
    "import json\n",
    "torch.save(Qmodel, f'{model_version_name}.pt')\n",
    "with open(f'{model_version_name}_config.json', 'w') as outfile:\n",
    "    json.dump(params, outfile)"
   ]
  },
  {
   "cell_type": "markdown",
   "metadata": {},
   "source": [
    "## load model"
   ]
  },
  {
   "cell_type": "code",
   "execution_count": 12,
   "metadata": {},
   "outputs": [
    {
     "data": {
      "text/plain": [
       "Qnetwork(\n",
       "  (conv1): Conv2d(6, 32, kernel_size=(3, 3), stride=(2, 2), padding=(1, 1))\n",
       "  (conv2): Conv2d(32, 32, kernel_size=(3, 3), stride=(2, 2), padding=(1, 1))\n",
       "  (conv3): Conv2d(32, 32, kernel_size=(3, 3), stride=(2, 2), padding=(1, 1))\n",
       "  (conv4): Conv2d(32, 32, kernel_size=(3, 3), stride=(2, 2), padding=(1, 1))\n",
       "  (linear1): Linear(in_features=288, out_features=100, bias=True)\n",
       "  (linear2): Linear(in_features=100, out_features=12, bias=True)\n",
       "  (batchnorm1): BatchNorm2d(32, eps=1e-05, momentum=0.1, affine=True, track_running_stats=True)\n",
       "  (batchnorm2): BatchNorm2d(32, eps=1e-05, momentum=0.1, affine=True, track_running_stats=True)\n",
       "  (batchnorm3): BatchNorm2d(32, eps=1e-05, momentum=0.1, affine=True, track_running_stats=True)\n",
       "  (batchnorm4): BatchNorm2d(32, eps=1e-05, momentum=0.1, affine=True, track_running_stats=True)\n",
       "  (lstm): LSTM(9, 288, batch_first=True)\n",
       ")"
      ]
     },
     "execution_count": 12,
     "metadata": {},
     "output_type": "execute_result"
    }
   ],
   "source": [
    "Qmodel = torch.load(f'{model_version_name}.pt')\n",
    "Qmodel.eval()  # needed for dropout and/or batchnorm layers to function correctly for inference"
   ]
  },
  {
   "cell_type": "markdown",
   "metadata": {},
   "source": [
    "## Test Trained Agent"
   ]
  },
  {
   "cell_type": "code",
   "execution_count": 15,
   "metadata": {},
   "outputs": [],
   "source": [
    "save_video = True\n",
    "render_also = True\n",
    "\n",
    "if save_video:\n",
    "    from gym.wrappers.monitoring.video_recorder import VideoRecorder\n",
    "\n",
    "env = gym_super_mario_bros.make('SuperMarioBros-v0')\n",
    "env = JoypadSpace(env, COMPLEX_MOVEMENT)  # C\n",
    "\n",
    "if save_video:\n",
    "    video_recorder = None\n",
    "    video_recorder = VideoRecorder(\n",
    "        env, f'{model_version_name}_gameplay.mp4', enabled=True)\n",
    "\n",
    "done = True\n",
    "state_deque = deque(maxlen=params['frames_per_state'])\n",
    "for step in range(10000):\n",
    "    if done:\n",
    "        env.reset()\n",
    "        state1 = prepare_initial_state(env.render('rgb_array'))\n",
    "    q_val_pred = Qmodel(state1)\n",
    "    action = int(policy(q_val_pred, params['test_eps']))\n",
    "    state2, reward, done, info = env.step(action)\n",
    "    state2 = prepare_multi_state(state1, state2)\n",
    "    state1 = state2\n",
    "\n",
    "    if save_video:\n",
    "        video_recorder.capture_frame()\n",
    "        if render_also:\n",
    "            env.render()\n",
    "    else:\n",
    "        env.render()\n",
    "\n",
    "if save_video:\n",
    "    video_recorder.close()\n",
    "    video_recorder.enabled = False\n",
    "\n",
    "env.close()"
   ]
  },
  {
   "cell_type": "code",
   "execution_count": 14,
   "metadata": {},
   "outputs": [],
   "source": [
    "# # if you're done, run env.close()\n",
    "# env.close()"
   ]
  }
 ],
 "metadata": {
  "kernelspec": {
   "display_name": "deep-rl-notebooks-poetry",
   "language": "python",
   "name": "deep-rl-notebooks-poetry"
  },
  "language_info": {
   "codemirror_mode": {
    "name": "ipython",
    "version": 3
   },
   "file_extension": ".py",
   "mimetype": "text/x-python",
   "name": "python",
   "nbconvert_exporter": "python",
   "pygments_lexer": "ipython3",
   "version": "3.8.5"
  }
 },
 "nbformat": 4,
 "nbformat_minor": 2
}
